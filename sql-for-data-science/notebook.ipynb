{
 "cells": [
  {
   "cell_type": "code",
   "execution_count": null,
   "id": "import-sql",
   "metadata": {},
   "outputs": [],
   "source": [
    "import pandas as pd\n",
    "import sqlite3\n",
    "\n",
    "conn = sqlite3.connect(':memory:')\n",
    "df = pd.DataFrame({\n",
    "    'name': ['Alice', 'Bob', 'Charlie'],\n",
    "    'score': [85, 90, 95]\n",
    "})\n",
    "df.to_sql('students', conn, index=False, if_exists='replace')\n",
    "\n",
    "result = pd.read_sql('SELECT * FROM students WHERE score > 88', conn)\n",
    "print(result)"
   ]
  }
 ],
 "metadata": {
  "language_info": {
   "name": "python"
  }
 },
 "nbformat": 4,
 "nbformat_minor": 5
}
